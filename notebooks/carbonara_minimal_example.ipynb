{
 "cells": [
  {
   "cell_type": "markdown",
   "id": "8130e6fd-ac63-494e-bd8b-4472f694cc93",
   "metadata": {},
   "source": [
    "# 🥘 Carbonara: Stratigraphic Radiocarbon Calibration Proof-of-Concept\n",
    "\n",
    "This notebook demonstrates a Bayesian calibration of stratigraphically ordered radiocarbon dates using Python and [PyMC](https://www.pymc.io/). It aims to mimic basic functionality of other radiocarbon calibration software using a minimal domain-specific language (DSL) and probabilistic programming.\n",
    "\n",
    "The steps include:\n",
    "1. Defining a stratigraphic model in a readable DSL\n",
    "2. Loading and interpolating the IntCal20 calibration curve\n",
    "3. Building and sampling a PyMC model\n",
    "4. Visualising posterior densities vs. likelihood curves\n",
    "\n",
    "> This notebook is part of the [Carbonara project](https://github.com/MartinHinz/carbonara_poc), a Python-based open-source initiative for radiocarbon calibration."
   ]
  },
  {
   "cell_type": "markdown",
   "id": "c13126c3-f226-47ab-a368-f568fa36c0bc",
   "metadata": {},
   "source": [
    "## 0. Setup\n",
    "\n",
    "We begin by importing the required Python libraries for probabilistic modelling (`PyMC`), numerical processing (`NumPy`), data handling (`Pandas`), and plotting (`Matplotlib`). We also use `PyTensor` for low-level tensor operations required by custom interpolation."
   ]
  },
  {
   "cell_type": "code",
   "execution_count": 1,
   "id": "2d59eb85-5fce-4312-8044-d000d741b3c1",
   "metadata": {},
   "outputs": [],
   "source": [
    "from pathlib import Path\n",
    "import numpy as np, pandas as pd\n",
    "import pymc as pm, pytensor.tensor as at\n",
    "import arviz as az\n",
    "from scipy.stats import gaussian_kde\n",
    "import matplotlib.pyplot as plt\n"
   ]
  },
  {
   "cell_type": "markdown",
   "id": "d84e9dee-f9e4-41d1-a1bc-83d8a22a6061",
   "metadata": {},
   "source": [
    "## 1. Mini-DSL: Define your stratigraphic model here\n",
    "(Very close to known syntax, but in pure Python objects.)\n",
    "\n",
    "You can define your own stratigraphic model here by combining `R_Date`, `Phase`, and `Sequence` objects.\n",
    "\n",
    "- `R_Date(name, mean, sigma)` represents an individual radiocarbon date.\n",
    "- `Phase(name, ...)` groups unordered dates.\n",
    "- `Sequence(name, ...)` orders phases or dates in top-down stratigraphic order."
   ]
  },
  {
   "cell_type": "code",
   "execution_count": 2,
   "id": "0e6db794-fe34-4342-9578-ad420b2f9285",
   "metadata": {},
   "outputs": [],
   "source": [
    "class R_Date:\n",
    "    \"\"\"Single 14C measurement.\"\"\"\n",
    "    def __init__(self, name, mean, sigma):\n",
    "        self.name    = name\n",
    "        self.mean    = mean\n",
    "        self.sigma   = sigma\n",
    "        self.var     = None  # to be set to the PyMC variable\n",
    "\n",
    "class Phase:\n",
    "    \"\"\"Unordered group of R_Date objects.\"\"\"\n",
    "    def __init__(self, name, *dates):\n",
    "        self.name    = name\n",
    "        self.dates   = list(dates)\n",
    "\n",
    "class Sequence:\n",
    "    \"\"\"Ordered list: first any top-level R_Dates, then Phases in sequence.\"\"\"\n",
    "    def __init__(self, name, *children):\n",
    "        self.name     = name\n",
    "        self.children = children\n",
    "        # split out any standalone R_Dates before the first Phase:\n",
    "        self.top_dates = [c for c in children if isinstance(c, R_Date)]\n",
    "        self.phases    = [c for c in children if isinstance(c, Phase)]"
   ]
  },
  {
   "cell_type": "markdown",
   "id": "9a3c97d8-424c-481f-b51c-1cea18122b5d",
   "metadata": {},
   "source": [
    "Below is an example with two phases, each containing multiple dates."
   ]
  },
  {
   "cell_type": "code",
   "execution_count": 3,
   "id": "6bac523a-7c4d-40fd-bb24-973a7e016908",
   "metadata": {},
   "outputs": [],
   "source": [
    "# your model:\n",
    "MODEL = Sequence(\"TestSeq\",\n",
    "    Phase(\"Layer1\",\n",
    "        R_Date(\"D1\", 5000, 25),\n",
    "        R_Date(\"D2\", 4920, 25),\n",
    "        R_Date(\"D6\", 4940, 25),\n",
    "    ),\n",
    "    Phase(\"Layer2\",\n",
    "        R_Date(\"D3\", 4970, 25),\n",
    "        R_Date(\"D4\", 4855, 25),\n",
    "        R_Date(\"D5\", 4930, 25),\n",
    "         ),\n",
    ")"
   ]
  },
  {
   "cell_type": "markdown",
   "id": "f20c910f-7bd0-4d14-a483-8d396a523b9e",
   "metadata": {},
   "source": [
    "## 2. Load IntCal20 and Set Up Interpolation\n",
    "\n",
    "To calibrate radiocarbon dates, we need to map each possible calendar age (in years **Before Present**, or **Cal BP**) to its expected radiocarbon age and associated uncertainty. This mapping is provided by the **IntCal20 calibration curve** (Reimer et al. 2020), which we load from a CSV file.\n",
    "\n",
    "We then prepare a **linear interpolation function** in PyTensor (used by PyMC) that allows us to compute:\n",
    "\n",
    "- The expected radiocarbon age (`C14Age`)\n",
    "- The calibration curve uncertainty (`C14Age.sigma`)\n",
    "\n",
    "...for any given calendar age. This is necessary because calibration curves are tabulated at irregular intervals, while our model requires continuous functions to evaluate the likelihood of each sample’s observed radiocarbon age."
   ]
  },
  {
   "cell_type": "code",
   "execution_count": 4,
   "id": "d5f67410-607a-4f3a-ba18-5b4b4fe3d4d8",
   "metadata": {},
   "outputs": [],
   "source": [
    "# load curve\n",
    "cal = pd.read_csv(Path(\"..\") / \"data\" / \"intcal20.14c\", comment=\"#\", header=None,\n",
    "                  names=[\"CalBP\",\"C14Age\",\"C14Age.sigma\",\"Δ14C\",\"ΔΣ\"])\n",
    "cal = cal.sort_values(\"CalBP\").reset_index(drop=True)\n",
    "cal_bp  = cal[\"CalBP\"].values\n",
    "age     = cal[\"C14Age\"].values\n",
    "age_sig = cal[\"C14Age.sigma\"].values\n",
    "\n",
    "# tensor versions\n",
    "cal_bp_tt    = at.as_tensor_variable(cal_bp)\n",
    "age_tt       = at.as_tensor_variable(age)\n",
    "age_sig_tt   = at.as_tensor_variable(age_sig)\n",
    "\n",
    "def interp(x, xp, fp):\n",
    "    idx = at.clip(at.searchsorted(xp, x, side=\"right\") - 1,\n",
    "                  0, xp.shape[0]-2)\n",
    "    x0, x1 = xp[idx], xp[idx+1]\n",
    "    y0, y1 = fp[idx], fp[idx+1]\n",
    "    return y0 + (y1-y0)*(x-x0)/(x1-x0)"
   ]
  },
  {
   "cell_type": "markdown",
   "id": "8e57e3fe-51d3-4a6c-a45a-e6fedac3f2df",
   "metadata": {},
   "source": [
    "## 3. Build & Sample the PyMC Model\n",
    "\n",
    "We now construct the Bayesian model using [PyMC](https://www.pymc.io/) with the following assumptions:\n",
    "\n",
    "- Each radiocarbon date corresponds to an unknown calendar age, modelled as a Uniform prior between the limits of the calibration curve.\n",
    "- The expected radiocarbon age is obtained by interpolating the IntCal20 calibration curve at that calendar age.\n",
    "- The total uncertainty combines the measurement error of the date with the calibration curve uncertainty (added in quadrature).\n",
    "- Stratigraphic ordering is enforced using hard constraints: dates in lower layers must be older than those above.\n",
    "\n",
    "We use **Metropolis sampling** rather than NUTS because of the hard discontinuities introduced by the ordering constraints, which are not well-handled by gradient-based samplers.\n",
    "\n",
    "The resulting posterior distributions represent the calibrated age ranges for each sample, respecting both measurement uncertainty and stratigraphic logic."
   ]
  },
  {
   "cell_type": "code",
   "execution_count": 5,
   "id": "f7457389-dca3-411a-9729-2772f03b823f",
   "metadata": {},
   "outputs": [],
   "source": [
    "def collect_dates(seq):\n",
    "    \"\"\"Flatten Sequence → [R_Date,...] in order.\"\"\"\n",
    "    out = []\n",
    "    out.extend(seq.top_dates)\n",
    "    for ph in seq.phases:\n",
    "        out.extend(ph.dates)\n",
    "    return out\n",
    "\n",
    "def apply_ordering(seq, penalty=-1e6):\n",
    "    \"\"\"\n",
    "    For Sequence seq, build groups = [top_dates] + [each phase.r_dates].\n",
    "    Then for each adjacent pair (A,B) we add\n",
    "      0 penalty if every a in A is > every b in B,\n",
    "      -inf otherwise.\n",
    "    \"\"\"\n",
    "    groups = [seq.top_dates] + [ph.dates for ph in seq.phases]\n",
    "    for k, (A, B) in enumerate(zip(groups, groups[1:])):\n",
    "        if not A or not B:\n",
    "            continue\n",
    "        for i, da in enumerate(A):\n",
    "            for j, db in enumerate(B):\n",
    "                pot_name = f\"{seq.name}_grp{k}_i{i}_j{j}\"\n",
    "                pm.Potential(\n",
    "                    pot_name,\n",
    "                    at.switch(da.var > db.var, 0.0, -np.inf)\n",
    "                )\n",
    "\n"
   ]
  },
  {
   "cell_type": "markdown",
   "id": "1293ac3d-8c8a-4e64-b7af-651f83eb7808",
   "metadata": {},
   "source": [
    "We now define a probabilistic model where each `R_Date` is assigned a calendar age variable. The calibration curve is used to derive the expected radiocarbon age and uncertainty. Stratigraphic ordering is enforced using hard constraints between phases.\n",
    "\n",
    "We use Metropolis sampling to estimate the posterior calendar ages. TODO: NUTS is not working due to discontinuity from ordering constraints. This can be improved."
   ]
  },
  {
   "cell_type": "code",
   "execution_count": null,
   "id": "2f2b0d02-7e65-49a4-96b1-7ab17531ae3c",
   "metadata": {},
   "outputs": [
    {
     "data": {
      "text/html": [
       "<pre style=\"white-space:pre;overflow-x:auto;line-height:normal;font-family:Menlo,'DejaVu Sans Mono',consolas,'Courier New',monospace\">                                                                                                                   \n",
       " <span style=\"font-weight: bold\"> Progress                       </span> <span style=\"font-weight: bold\"> Draws </span> <span style=\"font-weight: bold\"> Tuning </span> <span style=\"font-weight: bold\"> Scaling </span> <span style=\"font-weight: bold\"> Accept Rate </span> <span style=\"font-weight: bold\"> Sampling Speed  </span> <span style=\"font-weight: bold\"> Elapsed </span> <span style=\"font-weight: bold\"> Remaining </span> \n",
       " ───────────────────────────────────────────────────────────────────────────────────────────────────────────────── \n",
       "  <span style=\"color: #1f77b4; text-decoration-color: #1f77b4\">━━━━━━━━━━━━━━━━━━━━━━</span><span style=\"color: #3a3a3a; text-decoration-color: #3a3a3a\">╺━━━━━━━</span>   18560   False    0.01      0.21          3041.54 draws/s   0:00:06   0:00:02    \n",
       "  <span style=\"color: #1f77b4; text-decoration-color: #1f77b4\">━━━━━━━━━━━━━━━━━━━━━━</span><span style=\"color: #3a3a3a; text-decoration-color: #3a3a3a\">╺━━━━━━━</span>   18541   False    0.01      2.82          3038.42 draws/s   0:00:06   0:00:02    \n",
       "  <span style=\"color: #1f77b4; text-decoration-color: #1f77b4\">━━━━━━━━━━━━━━━━━━━━━━</span><span style=\"color: #3a3a3a; text-decoration-color: #3a3a3a\">╺━━━━━━━</span>   18616   False    0.01      0.00          3050.81 draws/s   0:00:06   0:00:02    \n",
       "  <span style=\"color: #1f77b4; text-decoration-color: #1f77b4\">━━━━━━━━━━━━━━━━━━━━━━</span><span style=\"color: #3a3a3a; text-decoration-color: #3a3a3a\">╺━━━━━━━</span>   18590   False    0.01      0.99          3046.54 draws/s   0:00:06   0:00:02    \n",
       "                                                                                                                   \n",
       "</pre>\n"
      ],
      "text/plain": [
       "                                                                                                                   \n",
       " \u001b[1m \u001b[0m\u001b[1mProgress                      \u001b[0m\u001b[1m \u001b[0m \u001b[1m \u001b[0m\u001b[1mDraws\u001b[0m\u001b[1m \u001b[0m \u001b[1m \u001b[0m\u001b[1mTuning\u001b[0m\u001b[1m \u001b[0m \u001b[1m \u001b[0m\u001b[1mScaling\u001b[0m\u001b[1m \u001b[0m \u001b[1m \u001b[0m\u001b[1mAccept Rate\u001b[0m\u001b[1m \u001b[0m \u001b[1m \u001b[0m\u001b[1mSampling Speed \u001b[0m\u001b[1m \u001b[0m \u001b[1m \u001b[0m\u001b[1mElapsed\u001b[0m\u001b[1m \u001b[0m \u001b[1m \u001b[0m\u001b[1mRemaining\u001b[0m\u001b[1m \u001b[0m \n",
       " ───────────────────────────────────────────────────────────────────────────────────────────────────────────────── \n",
       "  \u001b[38;2;31;119;180m━━━━━━━━━━━━━━━━━━━━━━\u001b[0m\u001b[38;5;237m╺\u001b[0m\u001b[38;5;237m━━━━━━━\u001b[0m   18560   False    0.01      0.21          3041.54 draws/s   0:00:06   0:00:02    \n",
       "  \u001b[38;2;31;119;180m━━━━━━━━━━━━━━━━━━━━━━\u001b[0m\u001b[38;5;237m╺\u001b[0m\u001b[38;5;237m━━━━━━━\u001b[0m   18541   False    0.01      2.82          3038.42 draws/s   0:00:06   0:00:02    \n",
       "  \u001b[38;2;31;119;180m━━━━━━━━━━━━━━━━━━━━━━\u001b[0m\u001b[38;5;237m╺\u001b[0m\u001b[38;5;237m━━━━━━━\u001b[0m   18616   False    0.01      0.00          3050.81 draws/s   0:00:06   0:00:02    \n",
       "  \u001b[38;2;31;119;180m━━━━━━━━━━━━━━━━━━━━━━\u001b[0m\u001b[38;5;237m╺\u001b[0m\u001b[38;5;237m━━━━━━━\u001b[0m   18590   False    0.01      0.99          3046.54 draws/s   0:00:06   0:00:02    \n",
       "                                                                                                                   \n"
      ]
     },
     "metadata": {},
     "output_type": "display_data"
    }
   ],
   "source": [
    "# build & sample\n",
    "with pm.Model() as model:\n",
    "    dates = collect_dates(MODEL)\n",
    "    # 1) define variables + likelihoods\n",
    "    for i, d in enumerate(dates):\n",
    "        d.var = pm.Uniform(f\"age_{i}\",\n",
    "                          lower=cal_bp.min(),\n",
    "                          upper=cal_bp.max())\n",
    "        mu    = interp(d.var, cal_bp_tt, age_tt)\n",
    "        scurv = interp(d.var, cal_bp_tt, age_sig_tt)\n",
    "        totσ  = at.sqrt(d.sigma**2 + scurv**2)\n",
    "        pm.Normal(f\"obs_{i}\", mu=mu, sigma=totσ, observed=d.mean)\n",
    "\n",
    "    # 2) stratigraphic ordering\n",
    "    apply_ordering(MODEL)\n",
    "\n",
    "    # 3) smart init: sort mean ages descending\n",
    "    means      = np.array([d.mean for d in dates])\n",
    "    init_order = np.sort(means)[::-1]\n",
    "    init_vals  = {f\"age_{i}\": init_order[i] - i*1e-3\n",
    "                  for i in range(len(dates))}\n",
    "\n",
    "    trace = pm.sample(20_000, tune=5_000,\n",
    "                      step=pm.Metropolis(),\n",
    "                      chains=4, cores=4,\n",
    "                      initvals=init_vals,\n",
    "                      return_inferencedata=True)"
   ]
  },
  {
   "cell_type": "markdown",
   "id": "c72c9cc1-db2e-4a49-997b-48a4abb03a5c",
   "metadata": {},
   "source": [
    "## 4. Visualise Posterior Distributions vs. Likelihoods\n",
    "\n",
    "The plot below compares the **posterior distributions** of the calibrated calendar ages (inferred via PyMC) with their corresponding **raw radiocarbon likelihoods**.\n",
    "\n",
    "- The **dashed black lines** represent the likelihood functions derived from the observed radiocarbon dates, assuming no stratigraphic ordering.\n",
    "- The **coloured shaded curves** represent the calibrated posterior distributions, which incorporate:\n",
    "  - the non-linear calibration curve (IntCal20),\n",
    "  - the measurement uncertainties,\n",
    "  - and any **stratigraphic ordering constraints** imposed in the model.\n",
    "\n",
    "Each distribution is vertically stacked and aligned with the corresponding sample name. This visualisation highlights how the raw likelihoods are transformed by the Bayesian calibration process, including the narrowing or shifting of ranges due to stratigraphic priors.\n",
    "\n",
    "> This kind of plot is useful for understanding the interplay between radiocarbon measurement, calibration curve structure, and archaeological context."
   ]
  },
  {
   "cell_type": "code",
   "execution_count": null,
   "id": "2855ebe2-ccda-4dd3-810a-7ea386244e4b",
   "metadata": {},
   "outputs": [],
   "source": [
    "names    = [d.name for d in dates]\n",
    "posts    = [trace.posterior[f\"age_{i}\"].values.flatten()\n",
    "            for i in range(len(dates))]\n",
    "\n",
    "# combined HDI\n",
    "allv      = np.concatenate(posts)\n",
    "lo, hi    = az.hdi(allv, prob=0.95)\n",
    "xs        = np.linspace(lo-300, hi+300, 2000)\n",
    "\n",
    "# raw likelihoods\n",
    "lks = []\n",
    "for d in dates:\n",
    "    mu_p  = np.interp(xs, cal_bp, age)\n",
    "    totσ  = np.sqrt(d.sigma**2 +\n",
    "                    np.interp(xs, cal_bp, age_sig)**2)\n",
    "    lk    = np.exp(-0.5*((mu_p-d.mean)/totσ)**2)\n",
    "    lk   /= np.trapz(lk, xs)\n",
    "    lks.append(lk)\n",
    "\n",
    "plt.figure(figsize=(10,8))\n",
    "for i,(n,post,lk) in enumerate(zip(names,posts,lks)):\n",
    "    base = i\n",
    "    # likelihood\n",
    "    plt.plot(xs, base + lk/lk.max()*0.8, 'k--',\n",
    "             label=\"Like\" if i==0 else None)\n",
    "    # posterior\n",
    "    try:\n",
    "        dens = gaussian_kde(post)(xs)\n",
    "        dens = dens/dens.max()*0.8\n",
    "        plt.fill_between(xs, base, base+dens, alpha=0.3)\n",
    "        plt.plot(xs, base+dens, lw=2, label=f\"Post {n}\")\n",
    "    except:\n",
    "        xm = np.median(post)\n",
    "        plt.vlines(xm, base, base+0.8, lw=3, label=f\"Post {n}\")\n",
    "\n",
    "plt.yticks(range(len(names)), names)\n",
    "plt.xlim(xs[0], xs[-1])\n",
    "plt.xlabel(\"Cal BP\")\n",
    "plt.title(\"Stacked Posteriors vs. Likelihoods (with between-phase ordering)\")\n",
    "plt.legend(loc=\"upper right\")\n",
    "plt.grid(axis='x', ls='--', alpha=0.5)\n",
    "plt.tight_layout()\n",
    "plt.show()"
   ]
  },
  {
   "cell_type": "markdown",
   "id": "6102d9fa-da37-4ac6-940f-c3eae9d6db7a",
   "metadata": {},
   "source": [
    "## 5. Summary of Posterior Estimates\n",
    "\n",
    "Below is a summary of the calibrated calendar ages for each sample:\n",
    "\n",
    "- **Median**: the central tendency of the posterior distribution\n",
    "- **95% HDI (Highest Density Interval)**: the narrowest range containing 95% of the posterior probability mass\n",
    "- These summaries take into account both the raw radiocarbon data and the stratigraphic constraints\n",
    "\n",
    "This output provides an readable overview of the estimated ages and their uncertainties."
   ]
  },
  {
   "cell_type": "code",
   "execution_count": null,
   "id": "6a78d3fb-cd72-4bc9-b0db-0e496e527d9b",
   "metadata": {},
   "outputs": [],
   "source": [
    "for i, d in enumerate(dates):\n",
    "    var = trace.posterior[f\"age_{i}\"]\n",
    "    median = np.median(var.values)\n",
    "\n",
    "    # HDI returns a Dataset with dimensions: chain, draw, hdi\n",
    "    hdi = az.hdi(var, hdi_prob=0.95)\n",
    "\n",
    "    # Collapse chain and draw, then access values directly\n",
    "    lo = hdi[f\"age_{i}\"].sel(hdi=\"lower\").values.mean()\n",
    "    hi = hdi[f\"age_{i}\"].sel(hdi=\"higher\").values.mean()\n",
    "\n",
    "    print(f\"{d.name}: median = {int(round(median))}, 95% HDI = [{int(round(lo))}, {int(round(hi))}]\")"
   ]
  },
  {
   "cell_type": "markdown",
   "id": "a8900a83-eaf5-4f69-b1bd-ea987ed44317",
   "metadata": {},
   "source": [
    "## 🧭 Next Steps\n",
    "\n",
    "- Generalise the DSL for more OxCal features (e.g. boundaries, gaps, prior shapes)\n",
    "- Switch to NUTS if ordering can be softened or relaxed\n",
    "- Package `R_Date`, `Phase`, and `Sequence` into reusable modules (`src/`)\n",
    "- Validate against known calibration program outputs\n",
    "\n",
    "Feel free to contribute via [GitHub](https://github.com/MartinHinz/carbonara_poc)!"
   ]
  },
  {
   "cell_type": "markdown",
   "id": "90dec257-c31d-4596-b6a9-e94be3bbc93d",
   "metadata": {},
   "source": [
    "## 🧪 Try It Yourself\n",
    "\n",
    "To experiment with your own stratigraphic model:\n",
    "\n",
    "1. Modify the `MODEL = Sequence(...)` block above.\n",
    "2. Change or add `R_Date(...)` entries, group them into `Phase(...)` objects.\n",
    "3. Re-run the notebook from top to bottom to see how your model behaves.\n",
    "\n",
    "Feel free to fork this notebook and adapt it to your own use case!"
   ]
  }
 ],
 "metadata": {
  "kernelspec": {
   "display_name": "Python 3.11 (Bayes)",
   "language": "python",
   "name": "bayeolab"
  },
  "language_info": {
   "codemirror_mode": {
    "name": "ipython",
    "version": 3
   },
   "file_extension": ".py",
   "mimetype": "text/x-python",
   "name": "python",
   "nbconvert_exporter": "python",
   "pygments_lexer": "ipython3",
   "version": "3.11.9"
  }
 },
 "nbformat": 4,
 "nbformat_minor": 5
}
